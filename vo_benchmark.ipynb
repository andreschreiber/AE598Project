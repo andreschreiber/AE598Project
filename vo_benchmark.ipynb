{
 "cells": [
  {
   "cell_type": "code",
   "execution_count": 1,
   "metadata": {},
   "outputs": [],
   "source": [
    "import symforce\n",
    "symforce.set_epsilon_to_symbol()\n",
    "\n",
    "import cv2\n",
    "import numpy as np\n",
    "import matplotlib.pyplot as plt\n",
    "from pathlib import Path\n",
    "\n",
    "import vo\n",
    "# pose_metrics requires evo (see top of pose_metrics.py for install instructions)\n",
    "import pose_metrics\n",
    "import utils\n",
    "\n",
    "# Note: this notebook requires pandas in addition to all of Prof. Bretl's dependencies\n",
    "import pandas as pd"
   ]
  },
  {
   "cell_type": "markdown",
   "metadata": {},
   "source": [
    "### Provide settings"
   ]
  },
  {
   "cell_type": "code",
   "execution_count": 2,
   "metadata": {},
   "outputs": [],
   "source": [
    "# When matching (max threshold for ratio test)\n",
    "matching_threshold = 0.5\n",
    "\n",
    "# When deciding if triangulated points are invalid\n",
    "max_reprojection_err = 0.75\n",
    "\n",
    "# MAV video folder\n",
    "mav_video_folder = Path('./data/mav0')\n",
    "\n",
    "# Temporary folder for evo metrics\n",
    "temporary_folder = Path('./temp')\n",
    "temporary_folder.mkdir(parents=True, exist_ok=True)"
   ]
  },
  {
   "cell_type": "markdown",
   "metadata": {},
   "source": [
    "### Read data"
   ]
  },
  {
   "cell_type": "code",
   "execution_count": 3,
   "metadata": {},
   "outputs": [],
   "source": [
    "cam0_sensor = utils.read_yaml(mav_video_folder / 'cam0/sensor.yaml')\n",
    "\n",
    "cam0_K = np.array([\n",
    "    [cam0_sensor['intrinsics'][0], 0, cam0_sensor['intrinsics'][2]],\n",
    "    [0, cam0_sensor['intrinsics'][1], cam0_sensor['intrinsics'][3]],\n",
    "    [0, 0, 1]\n",
    "])\n",
    "cam0_distortion = np.array(cam0_sensor['distortion_coefficients'])\n",
    "cam0_resolution = np.array(cam0_sensor['resolution']) # W,H\n",
    "cam0_extrinsics = np.array(cam0_sensor['T_BS']['data']).reshape(4,4)"
   ]
  },
  {
   "cell_type": "code",
   "execution_count": 4,
   "metadata": {},
   "outputs": [],
   "source": [
    "imu_sensor = utils.read_yaml(mav_video_folder / 'imu0/sensor.yaml')\n",
    "\n",
    "imu_extrinsics = np.array(imu_sensor['T_BS']['data']).reshape(4,4)\n",
    "imu_gyroscope_noise_density = imu_sensor['gyroscope_noise_density']\n",
    "imu_gyroscope_random_walk = imu_sensor['gyroscope_random_walk']\n",
    "imu_accelerometer_noise_density = imu_sensor['accelerometer_noise_density']\n",
    "imu_accelerometer_random_walk = imu_sensor['accelerometer_random_walk']"
   ]
  },
  {
   "cell_type": "code",
   "execution_count": 5,
   "metadata": {},
   "outputs": [],
   "source": [
    "cam0_csv = pd.read_csv(mav_video_folder / 'cam0/data.csv')\n",
    "imu0_csv = pd.read_csv(mav_video_folder / 'imu0/data.csv')\n",
    "states_csv = pd.read_csv(mav_video_folder / 'state_groundtruth_estimate0/data.csv')\n",
    "visual_inertial_data = utils.collect_visual_inertial_data(imu0_csv, cam0_csv, states_csv, mav_video_folder / Path('cam0/data'))"
   ]
  },
  {
   "cell_type": "markdown",
   "metadata": {},
   "source": [
    "### Create random generator"
   ]
  },
  {
   "cell_type": "code",
   "execution_count": 6,
   "metadata": {},
   "outputs": [
    {
     "name": "stdout",
     "output_type": "stream",
     "text": [
      "seeding RNG with 1260027359\n"
     ]
    }
   ],
   "source": [
    "rng = utils.create_rng(None)"
   ]
  },
  {
   "cell_type": "markdown",
   "metadata": {},
   "source": [
    "### Create image keypoint feature extractor"
   ]
  },
  {
   "cell_type": "code",
   "execution_count": 7,
   "metadata": {},
   "outputs": [],
   "source": [
    "feature_extractor = cv2.SIFT_create() # could also do ORB_create() for ORB features"
   ]
  },
  {
   "cell_type": "markdown",
   "metadata": {},
   "source": [
    "### Two view reconstruction"
   ]
  },
  {
   "cell_type": "markdown",
   "metadata": {},
   "source": [
    "Get initial solution"
   ]
  },
  {
   "cell_type": "code",
   "execution_count": 8,
   "metadata": {},
   "outputs": [
    {
     "name": "stdout",
     "output_type": "stream",
     "text": [
      "found 601 good matches\n",
      "found 527 inliers\n"
     ]
    }
   ],
   "source": [
    "chosen_index = 0\n",
    "\n",
    "# Get first index closest to chosen index\n",
    "first_frame_idx = utils.get_index_of_next_image(visual_inertial_data, chosen_index)\n",
    "# Get second index\n",
    "second_frame_idx = utils.get_index_of_next_image(visual_inertial_data, first_frame_idx+1)\n",
    "\n",
    "# Create two views\n",
    "views = [\n",
    "    vo.create_view_data(utils.read_image_mav(visual_inertial_data[first_frame_idx]['image_file']),\n",
    "                        first_frame_idx, feature_extractor, cam0_K, cam0_distortion),\n",
    "    vo.create_view_data(utils.read_image_mav(visual_inertial_data[second_frame_idx]['image_file']),\n",
    "                        second_frame_idx, feature_extractor, cam0_K, cam0_distortion)\n",
    "]\n",
    "\n",
    "# Perform two-view reconstruction\n",
    "tracks = vo.vo_2view(views, matching_threshold, cam0_K, rng, use_opencv=False)"
   ]
  },
  {
   "cell_type": "code",
   "execution_count": 9,
   "metadata": {},
   "outputs": [
    {
     "name": "stdout",
     "output_type": "stream",
     "text": [
      "\n",
      "REPROJECTION ERRORS\n",
      " Image  0 (  601 points) : (mean, std, max, min) = (  0.29,   0.67,  10.27,   0.00)\n",
      " Image (raw reprojection)  0 (  601 points) : (mean, std, max, min) = (  0.25,   0.55,   8.95,   0.00)\n",
      " Image  1 (  601 points) : (mean, std, max, min) = (  0.29,   0.66,  10.12,   0.00)\n",
      " Image (raw reprojection)  1 (  601 points) : (mean, std, max, min) = (  0.23,   0.55,   8.93,   0.00)\n"
     ]
    },
    {
     "data": {
      "image/png": "[encoded data removed]",
      "text/plain": [
       "<Figure size 1200x200 with 2 Axes>"
      ]
     },
     "metadata": {},
     "output_type": "display_data"
    }
   ],
   "source": [
    "vo.show_reproj_results(views, tracks, cam0_K, cam0_distortion, print_raw_reproj=True, show_reproj_histogram=True)"
   ]
  },
  {
   "cell_type": "markdown",
   "metadata": {},
   "source": [
    "Get post-optimization solution"
   ]
  },
  {
   "cell_type": "code",
   "execution_count": 10,
   "metadata": {},
   "outputs": [
    {
     "name": "stderr",
     "output_type": "stream",
     "text": [
      "/Users/andre/mambaforge/envs/ae598-3dv/lib/python3.12/site-packages/symforce/opt/optimizer.py:267: FutureWarning: debug_stats argument is deprecated, use params.debug_stats\n",
      "  warnings.warn(\n"
     ]
    },
    {
     "name": "stdout",
     "output_type": "stream",
     "text": [
      "[2024-04-24 11:14:54.723] [info] LM<sym::Optimize> [iter    0] lambda: 1.000e+00, error prev/linear/new: 8.728e+01/8.278e+01/8.268e+01, rel reduction: 5.26956e-02, gain ratio: 1.02237e+00\n",
      "[2024-04-24 11:14:55.269] [info] LM<sym::Optimize> [iter    1] lambda: 1.000e-01, error prev/linear/new: 8.268e+01/7.650e+01/7.606e+01, rel reduction: 8.00591e-02, gain ratio: 1.07082e+00\n",
      "[2024-04-24 11:14:55.749] [info] LM<sym::Optimize> [iter    2] lambda: 1.000e-02, error prev/linear/new: 7.606e+01/7.223e+01/7.378e+01, rel reduction: 2.99361e-02, gain ratio: 5.94365e-01\n",
      "[2024-04-24 11:14:56.283] [info] LM<sym::Optimize> [iter    3] lambda: 1.000e-03, error prev/linear/new: 7.378e+01/7.011e+01/7.164e+01, rel reduction: 2.90871e-02, gain ratio: 5.84941e-01\n",
      "[2024-04-24 11:14:56.690] [info] LM<sym::Optimize> [iter    4] lambda: 1.000e-04, error prev/linear/new: 7.164e+01/6.817e+01/7.019e+01, rel reduction: 2.01821e-02, gain ratio: 4.16752e-01\n",
      "[2024-04-24 11:14:57.148] [info] LM<sym::Optimize> [iter    5] lambda: 1.000e-05, error prev/linear/new: 7.019e+01/6.237e+01/6.624e+01, rel reduction: 5.62883e-02, gain ratio: 5.05430e-01\n",
      "[2024-04-24 11:14:57.593] [info] LM<sym::Optimize> [iter    6] lambda: 1.000e-06, error prev/linear/new: 6.624e+01/6.080e+01/6.468e+01, rel reduction: 2.36127e-02, gain ratio: 2.87552e-01\n",
      "[2024-04-24 11:14:58.077] [info] LM<sym::Optimize> [iter    7] lambda: 1.000e-07, error prev/linear/new: 6.468e+01/5.868e+01/5.944e+01, rel reduction: 8.09080e-02, gain ratio: 8.72788e-01\n",
      "[2024-04-24 11:14:58.531] [info] LM<sym::Optimize> [iter    8] lambda: 1.000e-08, error prev/linear/new: 5.944e+01/5.809e+01/6.023e+01, rel reduction: -1.32909e-02, gain ratio: -5.85610e-01\n",
      "[2024-04-24 11:14:58.981] [info] LM<sym::Optimize> [iter    9] lambda: 5.000e-08, error prev/linear/new: 5.944e+01/5.815e+01/5.818e+01, rel reduction: 2.11846e-02, gain ratio: 9.75729e-01\n",
      "[2024-04-24 11:14:59.480] [info] LM<sym::Optimize> [iter   10] lambda: 5.000e-09, error prev/linear/new: 5.818e+01/5.800e+01/5.809e+01, rel reduction: 1.68599e-03, gain ratio: 5.29042e-01\n",
      "[2024-04-24 11:14:59.940] [info] LM<sym::Optimize> [iter   11] lambda: 5.000e-10, error prev/linear/new: 5.809e+01/5.797e+01/5.796e+01, rel reduction: 2.21228e-03, gain ratio: 1.09229e+00\n",
      "[2024-04-24 11:15:00.501] [info] LM<sym::Optimize> [iter   12] lambda: 5.000e-11, error prev/linear/new: 5.796e+01/5.794e+01/5.794e+01, rel reduction: 3.54196e-04, gain ratio: 1.48641e+00\n",
      "[2024-04-24 11:15:00.946] [info] LM<sym::Optimize> [iter   13] lambda: 5.000e-12, error prev/linear/new: 5.794e+01/5.793e+01/5.792e+01, rel reduction: 2.29976e-04, gain ratio: 1.77642e+00\n",
      "[2024-04-24 11:15:01.437] [info] LM<sym::Optimize> [iter   14] lambda: 5.000e-13, error prev/linear/new: 5.792e+01/5.792e+01/5.791e+01, rel reduction: 1.50524e-04, gain ratio: 2.08827e+00\n",
      "[2024-04-24 11:15:01.895] [info] LM<sym::Optimize> [iter   15] lambda: 5.000e-14, error prev/linear/new: 5.791e+01/5.789e+01/5.791e+01, rel reduction: 3.75651e-05, gain ratio: 9.78715e-02\n",
      "[2024-04-24 11:15:01.896] [info] LM<sym::Optimize> Optimization finished with status: SUCCESS\n"
     ]
    }
   ],
   "source": [
    "views, tracks = vo.vo_nonlinear_optimize(views, tracks, cam0_K, max_reprojection_err)"
   ]
  },
  {
   "cell_type": "code",
   "execution_count": 11,
   "metadata": {},
   "outputs": [
    {
     "name": "stdout",
     "output_type": "stream",
     "text": [
      "\n",
      "REPROJECTION ERRORS\n",
      " Image  0 (  576 points) : (mean, std, max, min) = (  0.12,   0.14,   0.70,   0.00)\n",
      " Image (raw reprojection)  0 (  576 points) : (mean, std, max, min) = (  0.12,   0.12,   0.60,   0.00)\n",
      " Image  1 (  576 points) : (mean, std, max, min) = (  0.13,   0.14,   0.73,   0.00)\n",
      " Image (raw reprojection)  1 (  576 points) : (mean, std, max, min) = (  0.12,   0.13,   0.65,   0.00)\n"
     ]
    },
    {
     "data": {
      "image/png": "[encoded data removed]",
      "text/plain": [
       "<Figure size 1200x200 with 2 Axes>"
      ]
     },
     "metadata": {},
     "output_type": "display_data"
    }
   ],
   "source": [
    "vo.show_reproj_results(views, tracks, cam0_K, cam0_distortion, print_raw_reproj=True, show_reproj_histogram=True)"
   ]
  },
  {
   "cell_type": "markdown",
   "metadata": {},
   "source": [
    "### Compute APE - example\n",
    "Note, because we only have 2 views we don't have sufficient data to actually do an alignment."
   ]
  },
  {
   "cell_type": "code",
   "execution_count": 12,
   "metadata": {},
   "outputs": [
    {
     "name": "stdout",
     "output_type": "stream",
     "text": [
      "\n",
      "APE EVALUATION (alignment = none)\n",
      "rmse = 5.285\n",
      "mean = 5.281\n",
      "median = 5.281\n",
      "std = 0.201\n",
      "min = 5.080\n",
      "max = 5.482\n",
      "sse = 55.858\n"
     ]
    }
   ],
   "source": [
    "ape_results = pose_metrics.compute_ape(\n",
    "    pose_metrics.create_tum_data_from_views(times=[visual_inertial_data[view['frame_id']]['time'] for view in views], views=views),\n",
    "    pose_metrics.create_tum_data_from_groundtruth([visual_inertial_data[view['frame_id']] for view in views]),\n",
    "    temporary_folder / Path('traj1.txt'),\n",
    "    temporary_folder / Path('traj2.txt'),\n",
    "    temporary_folder / Path('results.zip'),\n",
    "    temporary_folder / Path('results/'),\n",
    "    align='none', verbose=False, print_results=True,\n",
    ")"
   ]
  },
  {
   "cell_type": "markdown",
   "metadata": {},
   "source": [
    "### Compute pose error (with my alignment) example\n",
    "Basically, we do a coordinate transform so both trajectories start at 0 pose and identity rotation. Then we calculate the error for each time-step. In our case, we probably should just care about the final error elements (which specifies errors between first and last frame)."
   ]
  },
  {
   "cell_type": "code",
   "execution_count": 13,
   "metadata": {},
   "outputs": [
    {
     "name": "stdout",
     "output_type": "stream",
     "text": [
      "Avg error in translation = 0.494 (min = 0.000, max = 0.988, final = 0.988)\n",
      "Avg error in rotation = 0.015 (min = 0.000, max = 0.030, final = 0.030)\n"
     ]
    }
   ],
   "source": [
    "pose_results = pose_metrics.compute_pose_error(\n",
    "    pose_metrics.create_tum_data_from_views(times=[visual_inertial_data[view['frame_id']]['time'] for view in views], views=views),\n",
    "    pose_metrics.create_tum_data_from_groundtruth([visual_inertial_data[view['frame_id']] for view in views]),\n",
    "    align='posescale', print_results=True,\n",
    ")"
   ]
  }
 ],
 "metadata": {
  "kernelspec": {
   "display_name": "ae598-3dv",
   "language": "python",
   "name": "python3"
  },
  "language_info": {
   "codemirror_mode": {
    "name": "ipython",
    "version": 3
   },
   "file_extension": ".py",
   "mimetype": "text/x-python",
   "name": "python",
   "nbconvert_exporter": "python",
   "pygments_lexer": "ipython3",
   "version": "3.12.2"
  }
 },
 "nbformat": 4,
 "nbformat_minor": 2
}
