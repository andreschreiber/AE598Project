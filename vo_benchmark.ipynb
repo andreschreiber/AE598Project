{
 "cells": [
  {
   "cell_type": "code",
   "execution_count": 1,
   "metadata": {},
   "outputs": [],
   "source": [
    "import symforce\n",
    "symforce.set_epsilon_to_symbol()\n",
    "\n",
    "import cv2\n",
    "import numpy as np\n",
    "import matplotlib.pyplot as plt\n",
    "from pathlib import Path\n",
    "\n",
    "import vo\n",
    "# evo_metrics requires evo (see top of evo_metrics.py for install instructions)\n",
    "import evo_metrics\n",
    "import utils\n",
    "\n",
    "# Note: this notebook requires pandas in addition to all of Prof. Bretl's dependencies\n",
    "import pandas as pd"
   ]
  },
  {
   "cell_type": "markdown",
   "metadata": {},
   "source": [
    "### Provide settings"
   ]
  },
  {
   "cell_type": "code",
   "execution_count": 2,
   "metadata": {},
   "outputs": [],
   "source": [
    "# When matching (max threshold for ratio test)\n",
    "matching_threshold = 0.5\n",
    "\n",
    "# When deciding if triangulated points are invalid\n",
    "max_reprojection_err = 0.75\n",
    "\n",
    "# MAV video folder\n",
    "mav_video_folder = Path('./data/mav0')\n",
    "\n",
    "# Temporary folder for evo metrics\n",
    "temporary_folder = Path('./temp')\n",
    "temporary_folder.mkdir(parents=True, exist_ok=True)"
   ]
  },
  {
   "cell_type": "markdown",
   "metadata": {},
   "source": [
    "### Read data"
   ]
  },
  {
   "cell_type": "code",
   "execution_count": 3,
   "metadata": {},
   "outputs": [],
   "source": [
    "cam0_sensor = utils.read_yaml(mav_video_folder / 'cam0/sensor.yaml')\n",
    "\n",
    "cam0_K = np.array([\n",
    "    [cam0_sensor['intrinsics'][0], 0, cam0_sensor['intrinsics'][2]],\n",
    "    [0, cam0_sensor['intrinsics'][1], cam0_sensor['intrinsics'][3]],\n",
    "    [0, 0, 1]\n",
    "])\n",
    "cam0_distortion = np.array(cam0_sensor['distortion_coefficients'])\n",
    "cam0_resolution = np.array(cam0_sensor['resolution']) # W,H\n",
    "cam0_extrinsics = np.array(cam0_sensor['T_BS']['data']).reshape(4,4)"
   ]
  },
  {
   "cell_type": "code",
   "execution_count": 4,
   "metadata": {},
   "outputs": [],
   "source": [
    "imu_sensor = utils.read_yaml(mav_video_folder / 'imu0/sensor.yaml')\n",
    "\n",
    "imu_extrinsics = np.array(imu_sensor['T_BS']['data']).reshape(4,4)\n",
    "imu_gyroscope_noise_density = imu_sensor['gyroscope_noise_density']\n",
    "imu_gyroscope_random_walk = imu_sensor['gyroscope_random_walk']\n",
    "imu_accelerometer_noise_density = imu_sensor['accelerometer_noise_density']\n",
    "imu_accelerometer_random_walk = imu_sensor['accelerometer_random_walk']"
   ]
  },
  {
   "cell_type": "code",
   "execution_count": 5,
   "metadata": {},
   "outputs": [],
   "source": [
    "cam0_csv = pd.read_csv(mav_video_folder / 'cam0/data.csv')\n",
    "imu0_csv = pd.read_csv(mav_video_folder / 'imu0/data.csv')\n",
    "states_csv = pd.read_csv(mav_video_folder / 'state_groundtruth_estimate0/data.csv')\n",
    "visual_inertial_data = utils.collect_visual_inertial_data(imu0_csv, cam0_csv, states_csv, mav_video_folder / Path('cam0/data'))"
   ]
  },
  {
   "cell_type": "markdown",
   "metadata": {},
   "source": [
    "### Create random generator"
   ]
  },
  {
   "cell_type": "code",
   "execution_count": 6,
   "metadata": {},
   "outputs": [
    {
     "name": "stdout",
     "output_type": "stream",
     "text": [
      "seeding RNG with 605867018\n"
     ]
    }
   ],
   "source": [
    "rng = utils.create_rng(None)"
   ]
  },
  {
   "cell_type": "markdown",
   "metadata": {},
   "source": [
    "### Create image keypoint feature extractor"
   ]
  },
  {
   "cell_type": "code",
   "execution_count": 7,
   "metadata": {},
   "outputs": [],
   "source": [
    "feature_extractor = cv2.SIFT_create() # could also do ORB_create() for ORB features"
   ]
  },
  {
   "cell_type": "markdown",
   "metadata": {},
   "source": [
    "### Two view reconstruction"
   ]
  },
  {
   "cell_type": "markdown",
   "metadata": {},
   "source": [
    "Get initial solution"
   ]
  },
  {
   "cell_type": "code",
   "execution_count": 8,
   "metadata": {},
   "outputs": [
    {
     "name": "stdout",
     "output_type": "stream",
     "text": [
      "found 601 good matches\n",
      "found 539 inliers\n"
     ]
    }
   ],
   "source": [
    "chosen_index = 0\n",
    "\n",
    "# Get first index closest to chosen index\n",
    "first_frame_idx = utils.get_index_of_next_image(visual_inertial_data, chosen_index)\n",
    "# Get second index\n",
    "second_frame_idx = utils.get_index_of_next_image(visual_inertial_data, first_frame_idx+1)\n",
    "\n",
    "# Create two views\n",
    "views = [\n",
    "    vo.create_view_data(utils.read_image_mav(visual_inertial_data[first_frame_idx]['image_file']),\n",
    "                        first_frame_idx, feature_extractor, cam0_K, cam0_distortion),\n",
    "    vo.create_view_data(utils.read_image_mav(visual_inertial_data[second_frame_idx]['image_file']),\n",
    "                        second_frame_idx, feature_extractor, cam0_K, cam0_distortion)\n",
    "]\n",
    "\n",
    "# Perform two-view reconstruction\n",
    "tracks = vo.vo_2view(views, matching_threshold, cam0_K, rng, use_opencv=False)"
   ]
  },
  {
   "cell_type": "code",
   "execution_count": 9,
   "metadata": {},
   "outputs": [
    {
     "name": "stdout",
     "output_type": "stream",
     "text": [
      "\n",
      "REPROJECTION ERRORS\n",
      " Image  0 (  601 points) : (mean, std, max, min) = (  0.22,   0.53,   9.85,   0.00)\n",
      " Image (raw reprojection)  0 (  601 points) : (mean, std, max, min) = (  0.19,   0.47,   8.59,   0.00)\n",
      " Image  1 (  601 points) : (mean, std, max, min) = (  0.22,   0.52,   9.70,   0.00)\n",
      " Image (raw reprojection)  1 (  601 points) : (mean, std, max, min) = (  0.20,   0.47,   8.55,   0.00)\n"
     ]
    },
    {
     "data": {
      "image/png": "[encoded data removed]",
      "text/plain": [
       "<Figure size 1200x200 with 2 Axes>"
      ]
     },
     "metadata": {},
     "output_type": "display_data"
    }
   ],
   "source": [
    "vo.show_reproj_results(views, tracks, cam0_K, cam0_distortion, print_raw_reproj=True, show_reproj_histogram=True)"
   ]
  },
  {
   "cell_type": "markdown",
   "metadata": {},
   "source": [
    "Get post-optimization solution"
   ]
  },
  {
   "cell_type": "code",
   "execution_count": 10,
   "metadata": {},
   "outputs": [
    {
     "name": "stderr",
     "output_type": "stream",
     "text": [
      "/Users/andre/mambaforge/envs/ae598-3dv/lib/python3.12/site-packages/symforce/opt/optimizer.py:267: FutureWarning: debug_stats argument is deprecated, use params.debug_stats\n",
      "  warnings.warn(\n"
     ]
    },
    {
     "name": "stdout",
     "output_type": "stream",
     "text": [
      "[2024-04-22 14:49:35.766] [info] LM<sym::Optimize> [iter    0] lambda: 1.000e+00, error prev/linear/new: 6.014e+01/5.932e+01/5.931e+01, rel reduction: 1.38716e-02, gain ratio: 1.01372e+00\n",
      "[2024-04-22 14:49:36.230] [info] LM<sym::Optimize> [iter    1] lambda: 1.000e-01, error prev/linear/new: 5.931e+01/5.777e+01/5.762e+01, rel reduction: 2.85741e-02, gain ratio: 1.09912e+00\n",
      "[2024-04-22 14:49:36.853] [info] LM<sym::Optimize> [iter    2] lambda: 1.000e-02, error prev/linear/new: 5.762e+01/5.573e+01/5.635e+01, rel reduction: 2.19400e-02, gain ratio: 6.69870e-01\n",
      "[2024-04-22 14:49:37.479] [info] LM<sym::Optimize> [iter    3] lambda: 1.000e-03, error prev/linear/new: 5.635e+01/5.320e+01/5.515e+01, rel reduction: 2.13808e-02, gain ratio: 3.82296e-01\n",
      "[2024-04-22 14:49:37.984] [info] LM<sym::Optimize> [iter    4] lambda: 1.000e-04, error prev/linear/new: 5.515e+01/5.163e+01/5.232e+01, rel reduction: 5.13412e-02, gain ratio: 8.04779e-01\n",
      "[2024-04-22 14:49:38.426] [info] LM<sym::Optimize> [iter    5] lambda: 1.000e-05, error prev/linear/new: 5.232e+01/4.999e+01/5.003e+01, rel reduction: 4.37338e-02, gain ratio: 9.85820e-01\n",
      "[2024-04-22 14:49:38.860] [info] LM<sym::Optimize> [iter    6] lambda: 1.000e-06, error prev/linear/new: 5.003e+01/4.723e+01/4.920e+01, rel reduction: 1.64639e-02, gain ratio: 2.94439e-01\n",
      "[2024-04-22 14:49:39.291] [info] LM<sym::Optimize> [iter    7] lambda: 1.000e-07, error prev/linear/new: 4.920e+01/4.657e+01/4.694e+01, rel reduction: 4.59507e-02, gain ratio: 8.57151e-01\n",
      "[2024-04-22 14:49:39.710] [info] LM<sym::Optimize> [iter    8] lambda: 1.000e-08, error prev/linear/new: 4.694e+01/4.637e+01/4.640e+01, rel reduction: 1.14752e-02, gain ratio: 9.45292e-01\n",
      "[2024-04-22 14:49:40.135] [info] LM<sym::Optimize> [iter    9] lambda: 1.000e-09, error prev/linear/new: 4.640e+01/4.627e+01/4.629e+01, rel reduction: 2.48249e-03, gain ratio: 8.69823e-01\n",
      "[2024-04-22 14:49:40.662] [info] LM<sym::Optimize> [iter   10] lambda: 1.000e-10, error prev/linear/new: 4.629e+01/4.622e+01/4.621e+01, rel reduction: 1.64833e-03, gain ratio: 1.17982e+00\n",
      "[2024-04-22 14:49:41.156] [info] LM<sym::Optimize> [iter   11] lambda: 1.000e-11, error prev/linear/new: 4.621e+01/4.619e+01/4.618e+01, rel reduction: 6.88399e-04, gain ratio: 1.34034e+00\n",
      "[2024-04-22 14:49:41.616] [info] LM<sym::Optimize> [iter   12] lambda: 1.000e-12, error prev/linear/new: 4.618e+01/4.617e+01/4.616e+01, rel reduction: 3.77961e-04, gain ratio: 1.27231e+00\n",
      "[2024-04-22 14:49:42.079] [info] LM<sym::Optimize> [iter   13] lambda: 1.000e-13, error prev/linear/new: 4.616e+01/4.615e+01/4.615e+01, rel reduction: 2.14287e-04, gain ratio: 1.17252e+00\n",
      "[2024-04-22 14:49:42.558] [info] LM<sym::Optimize> [iter   14] lambda: 1.000e-14, error prev/linear/new: 4.615e+01/4.615e+01/4.615e+01, rel reduction: 1.24898e-04, gain ratio: 1.02807e+00\n",
      "[2024-04-22 14:49:43.009] [info] LM<sym::Optimize> [iter   15] lambda: 1.000e-15, error prev/linear/new: 4.615e+01/4.614e+01/4.614e+01, rel reduction: 7.16256e-05, gain ratio: 8.06207e-01\n",
      "[2024-04-22 14:49:43.010] [info] LM<sym::Optimize> Optimization finished with status: SUCCESS\n"
     ]
    }
   ],
   "source": [
    "views, tracks = vo.vo_nonlinear_optimize(views, tracks, cam0_K, max_reprojection_err)"
   ]
  },
  {
   "cell_type": "code",
   "execution_count": 11,
   "metadata": {},
   "outputs": [
    {
     "name": "stdout",
     "output_type": "stream",
     "text": [
      "\n",
      "REPROJECTION ERRORS\n",
      " Image  0 (  577 points) : (mean, std, max, min) = (  0.13,   0.14,   0.68,   0.00)\n",
      " Image (raw reprojection)  0 (  577 points) : (mean, std, max, min) = (  0.12,   0.12,   0.60,   0.00)\n",
      " Image  1 (  577 points) : (mean, std, max, min) = (  0.13,   0.14,   0.70,   0.00)\n",
      " Image (raw reprojection)  1 (  577 points) : (mean, std, max, min) = (  0.12,   0.13,   0.63,   0.00)\n"
     ]
    },
    {
     "data": {
      "image/png": "[encoded data removed]",
      "text/plain": [
       "<Figure size 1200x200 with 2 Axes>"
      ]
     },
     "metadata": {},
     "output_type": "display_data"
    }
   ],
   "source": [
    "vo.show_reproj_results(views, tracks, cam0_K, cam0_distortion, print_raw_reproj=True, show_reproj_histogram=True)"
   ]
  },
  {
   "cell_type": "markdown",
   "metadata": {},
   "source": [
    "### Compute APE - example\n",
    "Note, because we only have 2 views we don't have sufficient data to actually do an alignment.\n",
    "TODO: get around this somehow (maybe make it that first in both is always at 0 and rotation zero?)\n",
    "Also, should we use different metrics beyond APE?"
   ]
  },
  {
   "cell_type": "code",
   "execution_count": 12,
   "metadata": {},
   "outputs": [
    {
     "name": "stdout",
     "output_type": "stream",
     "text": [
      "\n",
      "APE EVALUATION (alignment = none)\n",
      "rmse = 5.285\n",
      "mean = 5.281\n",
      "median = 5.281\n",
      "std = 0.201\n",
      "min = 5.080\n",
      "max = 5.483\n",
      "sse = 55.868\n"
     ]
    }
   ],
   "source": [
    "ape_results = evo_metrics.compute_ape(\n",
    "    evo_metrics.create_tum_data_from_views(times=[visual_inertial_data[view['frame_id']]['time'] for view in views], views=views),\n",
    "    evo_metrics.create_tum_data_from_groundtruth([visual_inertial_data[view['frame_id']] for view in views]),\n",
    "    temporary_folder / Path('traj1.txt'),\n",
    "    temporary_folder / Path('traj2.txt'),\n",
    "    temporary_folder / Path('results.zip'),\n",
    "    temporary_folder / Path('results/'),\n",
    "    align='none', verbose=False, print_results=True,\n",
    ")"
   ]
  },
  {
   "cell_type": "code",
   "execution_count": null,
   "metadata": {},
   "outputs": [],
   "source": []
  }
 ],
 "metadata": {
  "kernelspec": {
   "display_name": "ae598-3dv",
   "language": "python",
   "name": "python3"
  },
  "language_info": {
   "codemirror_mode": {
    "name": "ipython",
    "version": 3
   },
   "file_extension": ".py",
   "mimetype": "text/x-python",
   "name": "python",
   "nbconvert_exporter": "python",
   "pygments_lexer": "ipython3",
   "version": "3.12.2"
  }
 },
 "nbformat": 4,
 "nbformat_minor": 2
}
